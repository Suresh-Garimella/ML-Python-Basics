{
 "cells": [
  {
   "cell_type": "markdown",
   "metadata": {},
   "source": [
    "Question 1:"
   ]
  },
  {
   "cell_type": "code",
   "execution_count": 60,
   "metadata": {},
   "outputs": [
    {
     "name": "stdout",
     "output_type": "stream",
     "text": [
      "[19, 22, 19, 24, 20, 25, 26, 24, 25, 24]\n",
      "Sorted List : [19, 19, 20, 22, 24, 24, 24, 25, 25, 26]\n",
      "Minimum Value is : 19\n",
      "Maximum Value is : 26\n",
      "Added min and max values to the list [19, 19, 20, 22, 24, 24, 24, 25, 25, 26, 19, 26]\n",
      "Median value is: 24\n",
      "Average value is: 22.75\n",
      "Range of max minus min: 7\n"
     ]
    }
   ],
   "source": [
    "age = [19, 22, 19, 24, 20, 25, 26, 24, 25,24]\n",
    "print(age)\n",
    "age.sort()\n",
    "print(\"Sorted List :\",age)\n",
    "minimum_val = min(age)\n",
    "print(\"Minimum Value is :\",minimum_val)\n",
    "maximum_val = max(age)\n",
    "print(\"Maximum Value is :\",maximum_val)\n",
    "minimum_val = min(age)\n",
    "age.append(minimum_val)\n",
    "age.append(maximum_val)\n",
    "print(\"Added min and max values to the list\",age)\n",
    "age.sort()\n",
    "# print(age)\n",
    "median=0\n",
    "if(len(age)%2==0):\n",
    "#     print(\"Even\")\n",
    "    median=(age[len(age)//2]+age[len(age)//2-1])//2\n",
    "else:\n",
    "    median=age[len(age)//2]\n",
    "print(\"Median value is:\",median)\n",
    "\n",
    "average_val=sum(age)/len(age)\n",
    "print(\"Average value is:\",average_val)\n",
    "\n",
    "print(\"Range of max minus min:\",maximum_val-minimum_val)"
   ]
  },
  {
   "cell_type": "markdown",
   "metadata": {},
   "source": [
    "Question 2:"
   ]
  },
  {
   "cell_type": "code",
   "execution_count": 61,
   "metadata": {},
   "outputs": [
    {
     "name": "stdout",
     "output_type": "stream",
     "text": [
      "Dog Dictionary : {'name': 'Puppy', 'color': 'green', 'breed': 'Street', 'legs': 4, 'age': 5}\n",
      "\n",
      "student : {'first_name': 'Suresh', 'last_name': 'Garimella', 'gender': 'male', 'age': 23, 'marital_status': 'single', 'skills': ['python', 'ML', 'Cloud', 'DevOps'], 'country': 'India', 'city': 'Vijayawada', 'address': '11-42,surampalli'}\n",
      "\n",
      "Length of Student Dictionary : 9\n",
      "\n",
      "Skills values in student : ['python', 'ML', 'Cloud', 'DevOps']\n",
      "\n",
      "Type of Skills value is : <class 'list'>\n",
      "The Type of student[skills] is a List\n",
      "\n",
      " updated student skills : ['python', 'ML', 'Cloud', 'DevOps', 'DataBase', '.NET']\n",
      "\n",
      " Student Dictionary Keys : ['first_name', 'last_name', 'gender', 'age', 'marital_status', 'skills', 'country', 'city', 'address']\n",
      "\n",
      " Student Dictionary values : ['Suresh', 'Garimella', 'male', 23, 'single', ['python', 'ML', 'Cloud', 'DevOps', 'DataBase', '.NET'], 'India', 'Vijayawada', '11-42,surampalli']\n"
     ]
    }
   ],
   "source": [
    "dog={}\n",
    "dog[\"name\"]=\"Puppy\"\n",
    "dog[\"color\"]=\"green\"\n",
    "dog[\"breed\"]=\"Street\"\n",
    "dog[\"legs\"]=4\n",
    "dog[\"age\"]=5\n",
    "print(\"Dog Dictionary :\",dog)\n",
    "\n",
    "student={\n",
    "    \"first_name\":\"Suresh\",\"last_name\":\"Garimella\",\"gender\":\"male\",\"age\":23,\"marital_status\":\"single\",\n",
    "         \"skills\":[\"python\",\"ML\",\"Cloud\",\"DevOps\"],\"country\":\"India\",\"city\":\"Vijayawada\",\"address\":\"11-42,surampalli\"\n",
    "        }\n",
    "print(\"\\nstudent :\",student)\n",
    "print(\"\\nLength of Student Dictionary :\",len(student))\n",
    "print(\"\\nSkills values in student :\",student[\"skills\"])\n",
    "print(\"\\nType of Skills value is :\",type(student[\"skills\"]))\n",
    "if(type(student[\"skills\"])== list):\n",
    "    print(\"The Type of student[skills] is a List\")\n",
    "else:\n",
    "    print(\"The Type of student[skills] is NOT a List\")\n",
    "    \n",
    "student[\"skills\"].append(\"DataBase\")\n",
    "student[\"skills\"].append(\".NET\")\n",
    "print(\"\\n updated student skills :\",student[\"skills\"])\n",
    "\n",
    "print(\"\\n Student Dictionary Keys :\",list(student.keys())) \n",
    "print(\"\\n Student Dictionary values :\",list(student.values()))\n"
   ]
  },
  {
   "cell_type": "markdown",
   "metadata": {},
   "source": [
    "Questoin 3:"
   ]
  },
  {
   "cell_type": "code",
   "execution_count": 83,
   "metadata": {},
   "outputs": [
    {
     "name": "stdout",
     "output_type": "stream",
     "text": [
      "sisters tuple : ('sister1', 'sister2', 'sister3')\n",
      "brothers tuple : ('brother1', 'brother2', 'brother3')\n",
      "sibilings tuple : ('sister1', 'sister2', 'sister3', 'brother1', 'brother2', 'brother3')\n",
      "I have 6 sibilings \n",
      "Family members tuple : ('sister1', 'sister2', 'sister3', 'brother1', 'brother2', 'brother3', 'Dad', 'mom')\n"
     ]
    }
   ],
   "source": [
    "sisters = (\"sister1\",\"sister2\",\"sister3\")\n",
    "print(\"sisters tuple :\",sisters)\n",
    "brothers = (\"brother1\",\"brother2\",\"brother3\")\n",
    "print(\"brothers tuple :\",brothers)\n",
    "sibilings = sisters + brothers\n",
    "print(\"sibilings tuple :\",sibilings)\n",
    "print(\"I have {0} sibilings \".format(len(sibilings)))\n",
    "family_members=()\n",
    "sibilings = sibilings+(\"Dad\",\"mom\")\n",
    "family_members = sibilings\n",
    "print(\"Family members tuple :\",family_members)"
   ]
  },
  {
   "cell_type": "markdown",
   "metadata": {},
   "source": [
    "Question 4:"
   ]
  },
  {
   "cell_type": "code",
   "execution_count": 132,
   "metadata": {},
   "outputs": [
    {
     "name": "stdout",
     "output_type": "stream",
     "text": [
      "<class 'set'> \n",
      " It_companies : {'Apple', 'Amazon', 'IBM', 'Google', 'Microsoft', 'Oracle', 'Facebook'}\n",
      "length of it_companies : 7\n",
      "IT Companies : {'Apple', 'Amazon', 'IBM', 'Google', 'Microsoft', 'Twitter', 'Oracle', 'Facebook'}\n",
      "Added Multiple IT Companies : {'Apple', 'Amazon', 'Infosys', 'IBM', 'Google', 'Microsoft', 'Twitter', 'Oracle', 'Tesla', 'Facebook'}\n",
      "Removed IBM from It_companies : {'Apple', 'Amazon', 'Infosys', 'Google', 'Microsoft', 'Twitter', 'Oracle', 'Tesla', 'Facebook'}\n",
      "\n",
      "remove(): this function removes the specified element from the set, if not present it will raise an error\n",
      "where as discard() function deletes the element specified if not present, it will not raise any error\n",
      "\n",
      "Joining A & B sets {19, 20, 22, 24, 25, 26, 27, 28}\n",
      "Intersection of A & B: {19, 20, 22, 24, 25, 26}\n",
      "A is SubSet of B\n",
      "A & B are not disjoint sets\n",
      "Joining A with B : {19, 20, 22, 24, 25, 26, 27, 28}\n",
      "Joining B with A : {19, 20, 22, 24, 25, 26, 27, 28}\n",
      "Symmetric difference b/w A & B: set()\n",
      "set is A ,B  is clear set() set()\n",
      "length of age list form is : 8\n",
      "length of age set form is : 5\n"
     ]
    }
   ],
   "source": [
    "it_companies = {'Facebook', 'Google', 'Microsoft', 'Apple', 'IBM', 'Oracle', 'Amazon'}\n",
    "print(type(it_companies),\"\\n\",\"It_companies :\",it_companies)\n",
    "A = {19, 22, 24, 20, 25, 26}\n",
    "B = {19, 22, 20, 25, 26, 24, 28, 27}\n",
    "age = [22, 19, 24, 25, 26, 24, 25, 24]\n",
    "print(\"length of it_companies :\",len(it_companies))\n",
    "it_companies.add(\"Twitter\")\n",
    "print(\"IT Companies :\",it_companies)\n",
    "it_companies.update({\"Infosys\",\"Tesla\"})\n",
    "print(\"Added Multiple IT Companies :\",it_companies)\n",
    "it_companies.remove(\"IBM\")\n",
    "print(\"Removed IBM from It_companies :\",it_companies)\n",
    "print(\"\\nremove(): this function removes the specified element from the set, if not present it will raise an error\")\n",
    "print(\"where as discard() function deletes the element specified if not present, it will not raise any error\\n\")\n",
    "c={}\n",
    "c=A.union(B)\n",
    "print(\"Joining A & B sets\",c)\n",
    "print(\"Intersection of A & B:\",A.intersection(B))\n",
    "if(A.issubset(B)):\n",
    "    print(\"A is SubSet of B\")\n",
    "else:\n",
    "    print(\"A is not a SubSet of B\")\n",
    "if(A.isdisjoint(B)):\n",
    "    print(\"A & B are disjoint sets\")\n",
    "else:\n",
    "    print(\"A & B are not disjoint sets\")\n",
    "A1=A\n",
    "# print(A)\n",
    "A.update(B)\n",
    "print(\"Joining A with B :\",A)\n",
    "# print(B)\n",
    "B.update(A)\n",
    "print(\"Joining B with A :\",B)\n",
    "print(\"Symmetric difference b/w A & B:\",A.symmetric_difference(B))\n",
    "A.clear()\n",
    "B.clear()\n",
    "print(\"set is A ,B  is clear\",A,B)\n",
    "print(\"length of age list form is :\",len(age))\n",
    "print(\"length of age set form is :\",len(set(age)))\n"
   ]
  },
  {
   "cell_type": "markdown",
   "metadata": {},
   "source": [
    "Question 5:"
   ]
  },
  {
   "cell_type": "code",
   "execution_count": 140,
   "metadata": {},
   "outputs": [
    {
     "name": "stdout",
     "output_type": "stream",
     "text": [
      "Area of circle : 2827.4333877\n",
      "Circumference of a circle : 188.49555918\n",
      "Enter the radius :2\n",
      "Area of circle is : 12.566370612\n"
     ]
    }
   ],
   "source": [
    "radius = 30\n",
    "# Area of circle is pi*r^2\n",
    "def area_of_circle(radius):\n",
    "    return 3.141592653*(int(radius)**2)\n",
    "_area_of_circle = area_of_circle(radius)\n",
    "print(\"Area of circle :\",_area_of_circle)\n",
    "# Circumference of a Circle is 2*pi*r \n",
    "print(\"Circumference of a circle :\",2*3.141592653*radius)\n",
    "r = input(\"Enter the radius :\")\n",
    "print(\"Area of circle is :\",area_of_circle(r))\n"
   ]
  },
  {
   "cell_type": "markdown",
   "metadata": {},
   "source": [
    "Question 6:"
   ]
  },
  {
   "cell_type": "code",
   "execution_count": 2,
   "metadata": {},
   "outputs": [
    {
     "name": "stdout",
     "output_type": "stream",
     "text": [
      "All Words in a sentance as a list : ['I', 'am', 'a', 'teacher', 'and', 'I', 'love', 'to', 'inspire', 'and', 'teach', 'people']\n",
      "All Words in a sentance as a set : {'to', 'inspire', 'a', 'I', 'and', 'teacher', 'love', 'teach', 'am', 'people'}\n",
      "Total Unique words : 10\n"
     ]
    }
   ],
   "source": [
    "statement = \"I am a teacher and I love to inspire and teach people\"\n",
    "words_list = statement.split(\" \")\n",
    "print(\"All Words in a sentance as a list :\",words_list)\n",
    "unique_set = set(words_list)\n",
    "print(\"All Words in a sentance as a set :\",unique_set)\n",
    "print(\"Total Unique words :\",len(unique_set))"
   ]
  },
  {
   "cell_type": "markdown",
   "metadata": {},
   "source": [
    "Question 7:"
   ]
  },
  {
   "cell_type": "code",
   "execution_count": 1,
   "metadata": {},
   "outputs": [
    {
     "name": "stdout",
     "output_type": "stream",
     "text": [
      "Name      Age      Country      City\n",
      "['Name', 'Age', 'Country', 'City']\n",
      "Asabeneh      250      Finland      Helsinki\n",
      "['Asabeneh', '250', 'Finland', 'Helsinki']\n",
      "{'Name': 'Asabeneh', 'Age': '250', 'Country': 'Finland', 'City': 'Helsinki'}\n"
     ]
    }
   ],
   "source": [
    "# Use a tab escape sequence to get the following lines.\n",
    "\n",
    "# Name      Age      Country      City\n",
    "# Asabeneh      250      Finland      Helsinki\n",
    "# Split() :this function by default considers the \\t and space to split \n",
    "keys = input().split()\n",
    "print(keys)\n",
    "values = input().split()\n",
    "print(values)\n",
    "dict1 = {}\n",
    "for i in range(len(keys)):\n",
    "    dict1[keys[i]] = values[i]\n",
    "print(dict1)\n"
   ]
  },
  {
   "cell_type": "markdown",
   "metadata": {},
   "source": [
    "Question 8:"
   ]
  },
  {
   "cell_type": "code",
   "execution_count": 1,
   "metadata": {},
   "outputs": [
    {
     "name": "stdout",
     "output_type": "stream",
     "text": [
      "The area of a circle with radius 10 is 314 meters square.\n"
     ]
    }
   ],
   "source": [
    "radius = 10\n",
    "area = 3.14 * radius ** 2\n",
    "print(\"The area of a circle with radius {0} is {1} meters square.\".format(radius,int(area)))\n"
   ]
  },
  {
   "cell_type": "markdown",
   "metadata": {},
   "source": [
    "Question 9:"
   ]
  },
  {
   "cell_type": "code",
   "execution_count": 167,
   "metadata": {},
   "outputs": [
    {
     "name": "stdout",
     "output_type": "stream",
     "text": [
      "Enter no of students :4\n",
      "4\n",
      "150 155 145 148\n",
      " [68.0388555, 70.30681735, 65.77089365, 67.13167076]\n"
     ]
    }
   ],
   "source": [
    "N= int(input(\"Enter no of students :\"))\n",
    "print(N)\n",
    "lbs = list(map(int, input().split()))   \n",
    "\n",
    "kgs = []\n",
    "for i in lbs:\n",
    "    kgs.append(i*0.45359237)\n",
    "print(\"Weights in Kgs :\",kgs)"
   ]
  },
  {
   "cell_type": "markdown",
   "metadata": {},
   "source": [
    "questions 10:"
   ]
  },
  {
   "cell_type": "markdown",
   "metadata": {},
   "source": [
    "# Answer is written in the Notes and is attached along with this document as a PDF in the word document\n"
   ]
  }
 ],
 "metadata": {
  "kernelspec": {
   "display_name": "Python 3",
   "language": "python",
   "name": "python3"
  },
  "language_info": {
   "codemirror_mode": {
    "name": "ipython",
    "version": 3
   },
   "file_extension": ".py",
   "mimetype": "text/x-python",
   "name": "python",
   "nbconvert_exporter": "python",
   "pygments_lexer": "ipython3",
   "version": "3.7.6"
  }
 },
 "nbformat": 4,
 "nbformat_minor": 4
}
